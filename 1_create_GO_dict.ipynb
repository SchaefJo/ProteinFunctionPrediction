{
 "cells": [
  {
   "cell_type": "markdown",
   "metadata": {},
   "source": [
    "# create gene ontology dict"
   ]
  },
  {
   "cell_type": "markdown",
   "metadata": {},
   "source": [
    "### Parse .obo file and create a dictionary with it"
   ]
  },
  {
   "cell_type": "markdown",
   "metadata": {},
   "source": [
    "### code base from https://github.com/bio-ontology-research-group/deepgo"
   ]
  },
  {
   "cell_type": "code",
   "execution_count": 22,
   "metadata": {},
   "outputs": [],
   "source": [
    "import copy\n",
    "import pickle\n",
    "\n",
    "def geneontology():\n",
    "    go = dict()\n",
    "    obj = None\n",
    "    alt = []\n",
    "    with open(\"go.obo\", 'r') as f:\n",
    "        for line in f:\n",
    "            line = line.strip()\n",
    "            if not line:\n",
    "                continue\n",
    "            if line == '[Term]':\n",
    "                if obj is not None:\n",
    "                    go[obj['id']] = obj\n",
    "                    if len(alt) >= 1:\n",
    "                        for i in alt:\n",
    "                            go[i] = obj\n",
    "                        alt = []\n",
    "                obj = dict()\n",
    "                obj['is_a'] = list()\n",
    "                obj['is_obsolete'] = False\n",
    "                obj['is_mf'] = False\n",
    "                continue\n",
    "            elif line == '[Typedef]':\n",
    "                obj = None\n",
    "            else:\n",
    "                if obj is None:\n",
    "                    continue\n",
    "                l = line.split(\": \")\n",
    "                if l[0] == 'id':\n",
    "                    obj['id'] = l[1]\n",
    "                elif l[0] == 'is_a':\n",
    "                    obj['is_a'].append(l[1].split(' ! ')[0])\n",
    "                elif l[0] == 'name':\n",
    "                    obj['name'] = l[1]\n",
    "                elif l[0] == 'is_obsolete' and l[1] == 'true':\n",
    "                    obj['is_obsolete'] = True\n",
    "                elif l[0] == 'namespace' and l[1] == 'molecular_function':\n",
    "                    obj['is_mf'] = True\n",
    "                elif l[0] == 'alt_id':\n",
    "                    alt.append(l[1])\n",
    "        if obj is not None:\n",
    "            go[obj['id']] = obj\n",
    "\n",
    "    go_copy = copy.deepcopy(go)\n",
    "\n",
    "    for go_id in go_copy.keys():\n",
    "        if go[go_id]['is_obsolete']:\n",
    "            del go[go_id]\n",
    "        elif not go[go_id]['is_mf']:\n",
    "            del go[go_id]\n",
    "\n",
    "    for go_id, val in go.items():\n",
    "        if 'children' not in val:\n",
    "            val['children'] = set()\n",
    "        for p_id in val['is_a']:\n",
    "            if p_id in go:\n",
    "                if 'children' not in go[p_id]:\n",
    "                    go[p_id]['children'] = set()\n",
    "                go[p_id]['children'].add(go_id)\n",
    "        \n",
    "    return go"
   ]
  },
  {
   "cell_type": "code",
   "execution_count": 23,
   "metadata": {},
   "outputs": [],
   "source": [
    "go = geneontology()"
   ]
  },
  {
   "cell_type": "code",
   "execution_count": 24,
   "metadata": {},
   "outputs": [],
   "source": [
    "with open('hierarchy.pkl', 'wb') as handle:\n",
    "    pickle.dump(go, handle, protocol=pickle.HIGHEST_PROTOCOL)"
   ]
  },
  {
   "cell_type": "markdown",
   "metadata": {},
   "source": [
    "# get ancestors + term"
   ]
  },
  {
   "cell_type": "code",
   "execution_count": 25,
   "metadata": {},
   "outputs": [],
   "source": [
    "def getAncestors(id):\n",
    "    term = go[id]\n",
    "    parents = dict()\n",
    "    return getParents(term, parents)\n",
    "\n",
    "def getParents(term, parents):\n",
    "    if term == 'GO:0003674':\n",
    "        parents['GO:0003674'] = term\n",
    "        return parents\n",
    "    elif len(parents) == 0:\n",
    "        parents[term['id']] = term\n",
    "    for parent in term['is_a']:\n",
    "        if parent not in parents:\n",
    "            parents[parent] = go[parent]\n",
    "            parents = getParents(go[parent], parents)\n",
    "    return parents"
   ]
  },
  {
   "cell_type": "markdown",
   "metadata": {},
   "source": [
    "### check whether my code is right + adding all my prediction classes"
   ]
  },
  {
   "cell_type": "code",
   "execution_count": 26,
   "metadata": {},
   "outputs": [],
   "source": [
    "myTerms = [\"GO:0042802\",\"GO:0042803\",\"GO:0003677\",\"GO:0043565\",\"GO:0003700\",\"GO:0046982\",\"GO:0008270\",\"GO:0004674\",\"GO:0000978\",\"GO:0001228\"]"
   ]
  },
  {
   "cell_type": "code",
   "execution_count": 27,
   "metadata": {},
   "outputs": [],
   "source": [
    "classes = set()\n",
    "for go_id in myTerms:\n",
    "    me = getAncestors(go_id)\n",
    "    for i in me:\n",
    "        classes.add(i)"
   ]
  },
  {
   "cell_type": "code",
   "execution_count": 28,
   "metadata": {},
   "outputs": [
    {
     "data": {
      "text/plain": [
       "38"
      ]
     },
     "execution_count": 28,
     "metadata": {},
     "output_type": "execute_result"
    }
   ],
   "source": [
    "classes = [i for i in sorted(classes) if i != \"GO:0003674\"]\n",
    "len(classes)"
   ]
  },
  {
   "cell_type": "markdown",
   "metadata": {},
   "source": [
    "### the classes we are creating predictions for"
   ]
  },
  {
   "cell_type": "code",
   "execution_count": 29,
   "metadata": {},
   "outputs": [
    {
     "name": "stdout",
     "output_type": "stream",
     "text": [
      "GO:0000976\ttranscription regulatory region sequence-specific DNA binding\n",
      "GO:0000977\tRNA polymerase II regulatory region sequence-specific DNA binding\n",
      "GO:0000978\tRNA polymerase II proximal promoter sequence-specific DNA binding\n",
      "GO:0000981\tDNA-binding transcription factor activity, RNA polymerase II-specific\n",
      "GO:0000987\tproximal promoter sequence-specific DNA binding\n",
      "GO:0001012\tRNA polymerase II regulatory region DNA binding\n",
      "GO:0001067\tregulatory region nucleic acid binding\n",
      "GO:0001216\tDNA-binding transcription activator activity\n",
      "GO:0001228\tDNA-binding transcription activator activity, RNA polymerase II-specific\n",
      "GO:0003676\tnucleic acid binding\n",
      "GO:0003677\tDNA binding\n",
      "GO:0003690\tdouble-stranded DNA binding\n",
      "GO:0003700\tDNA-binding transcription factor activity\n",
      "GO:0003824\tcatalytic activity\n",
      "GO:0004672\tprotein kinase activity\n",
      "GO:0004674\tprotein serine/threonine kinase activity\n",
      "GO:0005488\tbinding\n",
      "GO:0005515\tprotein binding\n",
      "GO:0008270\tzinc ion binding\n",
      "GO:0016301\tkinase activity\n",
      "GO:0016740\ttransferase activity\n",
      "GO:0016772\ttransferase activity, transferring phosphorus-containing groups\n",
      "GO:0016773\tphosphotransferase activity, alcohol group as acceptor\n",
      "GO:0042802\tidentical protein binding\n",
      "GO:0042803\tprotein homodimerization activity\n",
      "GO:0043167\tion binding\n",
      "GO:0043169\tcation binding\n",
      "GO:0043565\tsequence-specific DNA binding\n",
      "GO:0044212\ttranscription regulatory region DNA binding\n",
      "GO:0046872\tmetal ion binding\n",
      "GO:0046914\ttransition metal ion binding\n",
      "GO:0046982\tprotein heterodimerization activity\n",
      "GO:0046983\tprotein dimerization activity\n",
      "GO:0097159\torganic cyclic compound binding\n",
      "GO:0140096\tcatalytic activity, acting on a protein\n",
      "GO:0140110\ttranscription regulator activity\n",
      "GO:1901363\theterocyclic compound binding\n",
      "GO:1990837\tsequence-specific double-stranded DNA binding\n"
     ]
    }
   ],
   "source": [
    "for i in classes:\n",
    "    print(i+'\\t'+go[i]['name'])"
   ]
  },
  {
   "cell_type": "code",
   "execution_count": 30,
   "metadata": {},
   "outputs": [],
   "source": [
    "classesDict = {i: e for e, i in enumerate(classes)}"
   ]
  },
  {
   "cell_type": "code",
   "execution_count": 32,
   "metadata": {},
   "outputs": [],
   "source": [
    "with open('classes.pkl', 'wb') as f:\n",
    "    pickle.dump(classesDict, f)"
   ]
  },
  {
   "cell_type": "markdown",
   "metadata": {},
   "source": [
    "# calc all parents of go terms appearing in the data set"
   ]
  },
  {
   "cell_type": "code",
   "execution_count": 33,
   "metadata": {},
   "outputs": [],
   "source": [
    "import pandas as pd\n",
    "import numpy as np"
   ]
  },
  {
   "cell_type": "code",
   "execution_count": 34,
   "metadata": {},
   "outputs": [],
   "source": [
    "df = pd.read_pickle(\"../1_Dataset/Dataset.pkl\")\n",
    "df = df.drop(\"index\", axis=1)\n",
    "for e,i in enumerate(df[\"Go_terms\"]):\n",
    "    df.loc[e][\"Go_terms\"] = i.split(\",\")\n",
    "df.loc[33310][1] = [i for i in df.loc[33310][1] if i != \"GO:0005395\"]"
   ]
  },
  {
   "cell_type": "code",
   "execution_count": 38,
   "metadata": {},
   "outputs": [],
   "source": [
    "preds = []\n",
    "for i in range(len(df)):\n",
    "    vector = np.zeros(38)\n",
    "    for j in df.loc[i][\"Go_terms\"]:\n",
    "        anc = getAncestors(j).keys()\n",
    "        for k in anc:\n",
    "            try:\n",
    "                vector[classesDict[k]] = 1\n",
    "            except:\n",
    "                pass\n",
    "    preds.append(vector)\n",
    "df[\"preds\"] = preds"
   ]
  },
  {
   "cell_type": "code",
   "execution_count": 41,
   "metadata": {},
   "outputs": [
    {
     "data": {
      "text/plain": [
       "1326"
      ]
     },
     "execution_count": 41,
     "metadata": {},
     "output_type": "execute_result"
    }
   ],
   "source": [
    "a=[i[37]==1 for i in df[\"preds\"]]\n",
    "len(df[a])"
   ]
  },
  {
   "cell_type": "code",
   "execution_count": 42,
   "metadata": {},
   "outputs": [],
   "source": [
    "appDict = {}\n",
    "for e, i in enumerate(classesDict):\n",
    "    appDict[e] = len(df[[j[e]==1 for j in df[\"preds\"]]])"
   ]
  },
  {
   "cell_type": "code",
   "execution_count": 49,
   "metadata": {},
   "outputs": [
    {
     "name": "stdout",
     "output_type": "stream",
     "text": [
      "GO:0000976\t0\t1191\t1509\t1326\t\n",
      "GO:0000977\t1\t910\t1191\t922\t\n",
      "GO:0000978\t2\t612\t910\t681\t\n",
      "GO:0000981\t3\t1006\t1853\t\n",
      "GO:0000987\t4\t681\t1191\t\n",
      "GO:0001012\t5\t922\t1509\t\n",
      "GO:0001067\t6\t1515\t4915\t\n",
      "GO:0001216\t7\t602\t1853\t\n",
      "GO:0001228\t8\t534\t1006\t602\t\n",
      "GO:0003676\t9\t4915\t6768\t6659\t\n",
      "GO:0003677\t10\t3467\t4915\t\n",
      "GO:0003690\t11\t1551\t3467\t\n",
      "GO:0003700\t12\t1853\t2415\t\n",
      "GO:0003824\t13\t15822\t\n",
      "GO:0004672\t14\t1261\t1828\t1642\t3883\t\n",
      "GO:0004674\t15\t817\t1261\t\n",
      "GO:0005488\t16\t18942\t\n",
      "GO:0005515\t17\t10979\t18942\t\n",
      "GO:0008270\t18\t560\t1182\t\n",
      "GO:0016301\t19\t1828\t2330\t\n",
      "GO:0016740\t20\t5980\t15822\t\n",
      "GO:0016772\t21\t2330\t5980\t\n",
      "GO:0016773\t22\t1642\t2330\t\n",
      "GO:0042802\t23\t3562\t10979\t\n",
      "GO:0042803\t24\t1435\t3562\t1939\t\n",
      "GO:0043167\t25\t4173\t18942\t\n",
      "GO:0043169\t26\t2253\t4173\t\n",
      "GO:0043565\t27\t2199\t3467\t\n",
      "GO:0044212\t28\t1509\t1515\t3467\t\n",
      "GO:0046872\t29\t2100\t2253\t\n",
      "GO:0046914\t30\t1182\t2100\t\n",
      "GO:0046982\t31\t684\t1939\t\n",
      "GO:0046983\t32\t1939\t10979\t\n",
      "GO:0097159\t33\t6768\t18942\t\n",
      "GO:0140096\t34\t3883\t15822\t\n",
      "GO:0140110\t35\t2415\t\n",
      "GO:1901363\t36\t6659\t18942\t\n",
      "GO:1990837\t37\t1326\t1551\t2199\t\n"
     ]
    }
   ],
   "source": [
    "for i in classesDict:\n",
    "    line = i+\"\\t\"+str(classesDict[i])+\"\\t\"+str(appDict[classesDict[i]])+\"\\t\"\n",
    "    for j in go[i][\"is_a\"]:\n",
    "        if j!=\"GO:0003674\":\n",
    "            line += str(appDict[classesDict[j]])+\"\\t\"\n",
    "    print(line)"
   ]
  },
  {
   "cell_type": "code",
   "execution_count": 50,
   "metadata": {},
   "outputs": [],
   "source": [
    "df.to_pickle(\"Dataset_withVector.pkl\")"
   ]
  }
 ],
 "metadata": {
  "kernelspec": {
   "display_name": "Python 3",
   "language": "python",
   "name": "python3"
  },
  "language_info": {
   "codemirror_mode": {
    "name": "ipython",
    "version": 3
   },
   "file_extension": ".py",
   "mimetype": "text/x-python",
   "name": "python",
   "nbconvert_exporter": "python",
   "pygments_lexer": "ipython3",
   "version": "3.6.7"
  }
 },
 "nbformat": 4,
 "nbformat_minor": 4
}
