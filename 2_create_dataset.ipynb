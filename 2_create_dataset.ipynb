{
 "cells": [
  {
   "cell_type": "code",
   "execution_count": 1,
   "metadata": {},
   "outputs": [],
   "source": [
    "import pickle\n",
    "import numpy as np\n",
    "import pandas as pd\n",
    "from sklearn.model_selection import train_test_split\n",
    "from sklearn.utils import shuffle\n",
    "import matplotlib.pyplot as plt"
   ]
  },
  {
   "cell_type": "code",
   "execution_count": 2,
   "metadata": {},
   "outputs": [],
   "source": [
    "def negPred(df, par, chi):\n",
    "    arr = []\n",
    "    if par != 100:\n",
    "        for i in range(len(df)):\n",
    "            if (df.iloc[i][\"neg\"] == 1) or (df.iloc[i][\"preds\"][par] == 1 and df.iloc[i][\"preds\"][chi] == 0):\n",
    "                arr.append(True)\n",
    "            else:\n",
    "                arr.append(False)\n",
    "    else:\n",
    "        for i in range(len(df)):\n",
    "            if (df.iloc[i][\"neg\"] == 1) or (df.iloc[i][\"preds\"][chi] == 0):\n",
    "                arr.append(True)\n",
    "            else:\n",
    "                arr.append(False)\n",
    "    df[\"neg\"] = arr\n",
    "    return df"
   ]
  },
  {
   "cell_type": "code",
   "execution_count": 3,
   "metadata": {},
   "outputs": [],
   "source": [
    "with open('../3_go_dict/hierarchy.pkl', 'rb') as f:\n",
    "    go = pickle.load(f)"
   ]
  },
  {
   "cell_type": "code",
   "execution_count": 4,
   "metadata": {},
   "outputs": [],
   "source": [
    "with open('../3_go_dict/classes.pkl', 'rb') as f:\n",
    "    dic = pickle.load(f)"
   ]
  },
  {
   "cell_type": "code",
   "execution_count": 5,
   "metadata": {},
   "outputs": [],
   "source": [
    "df = pd.read_pickle(\"../4_SeqVec/DatasetFin.pkl\")"
   ]
  },
  {
   "cell_type": "code",
   "execution_count": 6,
   "metadata": {},
   "outputs": [
    {
     "data": {
      "text/plain": [
       "34451"
      ]
     },
     "execution_count": 6,
     "metadata": {},
     "output_type": "execute_result"
    }
   ],
   "source": [
    "len(df)"
   ]
  },
  {
   "cell_type": "markdown",
   "metadata": {},
   "source": [
    "# Data set imbalance"
   ]
  },
  {
   "cell_type": "code",
   "execution_count": 7,
   "metadata": {},
   "outputs": [],
   "source": [
    "dic_imbal_prev = {}\n",
    "pred_sum = np.sum(df[\"preds\"])\n",
    "for e,i in enumerate(dic):\n",
    "    dic_imbal_prev[i] = pred_sum[e]"
   ]
  },
  {
   "cell_type": "code",
   "execution_count": 8,
   "metadata": {},
   "outputs": [
    {
     "data": {
      "image/png": "[encoded data removed]",
      "text/plain": [
       "<Figure size 1080x504 with 1 Axes>"
      ]
     },
     "metadata": {
      "needs_background": "light"
     },
     "output_type": "display_data"
    }
   ],
   "source": [
    "a=plt.figure(figsize=(15, 7))\n",
    "sorts = sorted(dic_imbal_prev.items(), key=lambda x: x[1])\n",
    "terms = [i[0] for i in sorts]\n",
    "probs = [i[1] for i in sorts]\n",
    "plt.bar(terms, np.divide(probs, len(df)))\n",
    "plt.rcParams.update({'font.size': 15})\n",
    "plt.xticks(rotation=90)\n",
    "#plt.yscale('log')\n",
    "plt.title('# appearance of every class in the whole data set')\n",
    "#plt.xlabel('GO term class')\n",
    "plt.ylabel('# appearances')\n",
    "plt.subplots_adjust(bottom=0.3, top=0.90)\n",
    "plt.show()\n",
    "#a.savefig(\"Figures/DatasetImbalancePrev.png\")"
   ]
  },
  {
   "cell_type": "markdown",
   "metadata": {},
   "source": [
    "# Homology reduction"
   ]
  },
  {
   "cell_type": "markdown",
   "metadata": {},
   "source": [
    "### Create fasta from dataset"
   ]
  },
  {
   "cell_type": "code",
   "execution_count": 9,
   "metadata": {},
   "outputs": [],
   "source": [
    "ofile = open(\"dataset.fasta\", \"w\")\n",
    "for i in range(len(df)):\n",
    "    ofile.write(\">\" + df.iloc[i][\"UniProt_ID\"] + \"\\n\" +df.iloc[i][\"Seq\"] + \"\\n\")\n",
    "ofile.close()"
   ]
  },
  {
   "cell_type": "code",
   "execution_count": 23,
   "metadata": {},
   "outputs": [],
   "source": [
    "dftest = pd.read_pickle(\"Testset.pkl\")"
   ]
  },
  {
   "cell_type": "code",
   "execution_count": 25,
   "metadata": {},
   "outputs": [],
   "source": [
    "ofiles = open(\"testset.fasta\", \"w\")\n",
    "for i in range(len(dftest)):\n",
    "    ofiles.write(\">\" + dftest.iloc[i][\"UniProt_ID\"] + \"\\n\" +dftest.iloc[i][\"Seq\"] + \"\\n\")\n",
    "ofiles.close()"
   ]
  },
  {
   "cell_type": "markdown",
   "metadata": {},
   "source": [
    "### read homology reduced fasta"
   ]
  },
  {
   "cell_type": "code",
   "execution_count": 10,
   "metadata": {},
   "outputs": [],
   "source": [
    "seqs = []\n",
    "with open(\"fasta50\", \"r\") as f:\n",
    "    for line in f.readlines():\n",
    "        if line[0] == \">\":\n",
    "            seqs.append(line[1:].strip())"
   ]
  },
  {
   "cell_type": "code",
   "execution_count": 11,
   "metadata": {},
   "outputs": [],
   "source": [
    "truth = []\n",
    "for i in df[\"UniProt_ID\"]:\n",
    "    if i in seqs:\n",
    "        truth.append(True)\n",
    "    else:\n",
    "        truth.append(False)"
   ]
  },
  {
   "cell_type": "code",
   "execution_count": 12,
   "metadata": {},
   "outputs": [],
   "source": [
    "df_homred = df[truth]"
   ]
  },
  {
   "cell_type": "code",
   "execution_count": 13,
   "metadata": {},
   "outputs": [],
   "source": [
    "df_homred.to_pickle(\"DatasetHomology50\")"
   ]
  },
  {
   "cell_type": "code",
   "execution_count": 14,
   "metadata": {},
   "outputs": [],
   "source": [
    "df = pd.read_pickle(\"DatasetHomology50\")"
   ]
  },
  {
   "cell_type": "code",
   "execution_count": 15,
   "metadata": {},
   "outputs": [
    {
     "data": {
      "text/plain": [
       "21493"
      ]
     },
     "execution_count": 15,
     "metadata": {},
     "output_type": "execute_result"
    }
   ],
   "source": [
    "len(df)"
   ]
  },
  {
   "cell_type": "markdown",
   "metadata": {},
   "source": [
    "# Dataset Imbalance After HomRed"
   ]
  },
  {
   "cell_type": "code",
   "execution_count": 16,
   "metadata": {},
   "outputs": [],
   "source": [
    "dic_imbal = {}\n",
    "pred_sum = np.sum(df[\"preds\"])\n",
    "for e,i in enumerate(dic):\n",
    "    dic_imbal[i] = pred_sum[e]"
   ]
  },
  {
   "cell_type": "code",
   "execution_count": 17,
   "metadata": {},
   "outputs": [
    {
     "ename": "NameError",
     "evalue": "name 'probs_after' is not defined",
     "output_type": "error",
     "traceback": [
      "\u001b[0;31m---------------------------------------------------------------------------\u001b[0m",
      "\u001b[0;31mNameError\u001b[0m                                 Traceback (most recent call last)",
      "\u001b[0;32m<ipython-input-17-776c2de0cb79>\u001b[0m in \u001b[0;36m<module>\u001b[0;34m\u001b[0m\n\u001b[0;32m----> 1\u001b[0;31m \u001b[0ma\u001b[0m\u001b[0;34m=\u001b[0m\u001b[0mnp\u001b[0m\u001b[0;34m.\u001b[0m\u001b[0mdivide\u001b[0m\u001b[0;34m(\u001b[0m\u001b[0mprobs_after\u001b[0m\u001b[0;34m,\u001b[0m\u001b[0;36m21492\u001b[0m\u001b[0;34m)\u001b[0m\u001b[0;34m\u001b[0m\u001b[0;34m\u001b[0m\u001b[0m\n\u001b[0m",
      "\u001b[0;31mNameError\u001b[0m: name 'probs_after' is not defined"
     ]
    }
   ],
   "source": [
    "a=np.divide(probs_after,21492)"
   ]
  },
  {
   "cell_type": "code",
   "execution_count": 15,
   "metadata": {},
   "outputs": [],
   "source": [
    "b = np.divide(probs, 34000)"
   ]
  },
  {
   "cell_type": "code",
   "execution_count": null,
   "metadata": {},
   "outputs": [],
   "source": [
    "a=plt.figure(figsize=(15, 7))\n",
    "sorts = sorted(dic_imbal.items(), key=lambda x: x[1])\n",
    "terms = [i[0] for i in sorts]\n",
    "probs_after = [i[1] for i in sorts]\n",
    "abc = \n",
    "plt.bar(terms, np.divide(probs,len(df)))\n",
    "plt.rcParams.update({'font.size': 15})\n",
    "plt.xticks(rotation=90)\n",
    "#plt.yscale('log')\n",
    "plt.title('% of appearance of every class in the data set')\n",
    "#plt.xlabel('GO term class')\n",
    "plt.ylabel('% of appearance')\n",
    "plt.subplots_adjust(bottom=0.3, top=0.90)\n",
    "plt.show()\n",
    "#a.savefig(\"Figures/DatasetImbalanceAfter.png\")"
   ]
  },
  {
   "cell_type": "code",
   "execution_count": 12,
   "metadata": {},
   "outputs": [
    {
     "data": {
      "image/png": "[encoded data removed]",
      "text/plain": [
       "<Figure size 1080x504 with 1 Axes>"
      ]
     },
     "metadata": {
      "needs_background": "light"
     },
     "output_type": "display_data"
    }
   ],
   "source": [
    "a=plt.figure(figsize=(15, 7))\n",
    "sorts = sorted(dic_imbal.items(), key=lambda x: x[1])\n",
    "terms = [i[0] for i in sorts]\n",
    "probs_after = [i[1] for i in sorts]\n",
    "plt.bar(terms, np.divide(probs,len(df)))\n",
    "plt.rcParams.update({'font.size': 15})\n",
    "plt.xticks(rotation=90)\n",
    "#plt.yscale('log')\n",
    "plt.title('% of appearance of every class in the data set')\n",
    "#plt.xlabel('GO term class')\n",
    "plt.ylabel('% of appearance')\n",
    "plt.subplots_adjust(bottom=0.3, top=0.90)\n",
    "plt.show()\n",
    "#a.savefig(\"Figures/DatasetImbalanceAfter.png\")"
   ]
  },
  {
   "cell_type": "markdown",
   "metadata": {},
   "source": [
    "# Compare after and prev class imbalance"
   ]
  },
  {
   "cell_type": "code",
   "execution_count": 24,
   "metadata": {},
   "outputs": [],
   "source": [
    "after = np.divide(list(dic_imbal.values()), 21493)"
   ]
  },
  {
   "cell_type": "code",
   "execution_count": 25,
   "metadata": {},
   "outputs": [],
   "source": [
    "prev = np.divide(list(dic_imbal_prev.values()), 34451)"
   ]
  },
  {
   "cell_type": "code",
   "execution_count": 26,
   "metadata": {},
   "outputs": [
    {
     "data": {
      "text/plain": [
       "array([-0.00139725, -0.00245304, -0.00255011, -0.00268063, -0.00190092,\n",
       "       -0.00228956, -0.00056602, -0.0013293 , -0.00172835,  0.00603318,\n",
       "        0.00395651, -0.00082003,  0.00023105, -0.00222846, -0.0080818 ,\n",
       "       -0.00636035, -0.00490279, -0.01481813,  0.00128562, -0.00839516,\n",
       "       -0.00184954, -0.00528641, -0.00760234,  0.00306004, -0.00294308,\n",
       "       -0.00364845, -0.00067849,  0.00158686, -0.00057797,  0.00036615,\n",
       "        0.00212087, -0.0052914 , -0.00663877,  0.00184419, -0.00756029,\n",
       "        0.00183083,  0.00244913, -0.00066318])"
      ]
     },
     "execution_count": 26,
     "metadata": {},
     "output_type": "execute_result"
    }
   ],
   "source": [
    "np.subtract(after, prev)"
   ]
  },
  {
   "cell_type": "markdown",
   "metadata": {},
   "source": [
    "# Go on with Dataset Creation"
   ]
  },
  {
   "cell_type": "code",
   "execution_count": 18,
   "metadata": {},
   "outputs": [],
   "source": [
    "df_train, df_test = train_test_split(df, random_state = 42, test_size = 0.1)"
   ]
  },
  {
   "cell_type": "code",
   "execution_count": 19,
   "metadata": {},
   "outputs": [
    {
     "data": {
      "text/plain": [
       "array([0.1105919 , 0.10991379, 0.11986301, 0.11764706, 0.10982659,\n",
       "       0.10970464, 0.11602871, 0.13398693, 0.12977099, 0.11010768,\n",
       "       0.10196078, 0.10593714, 0.125     , 0.11157633, 0.12065814,\n",
       "       0.12012012, 0.10688971, 0.09893993, 0.10557185, 0.12412178,\n",
       "       0.1107433 , 0.117598  , 0.11818182, 0.1026506 , 0.0990753 ,\n",
       "       0.11528269, 0.11996779, 0.10188088, 0.11658654, 0.1188455 ,\n",
       "       0.11857143, 0.1299639 , 0.10684647, 0.11076362, 0.11439842,\n",
       "       0.12110225, 0.11002639, 0.10461957])"
      ]
     },
     "execution_count": 19,
     "metadata": {},
     "output_type": "execute_result"
    }
   ],
   "source": [
    "np.divide(np.sum(df_test[\"preds\"]), (np.sum(df[\"preds\"])-np.sum(df_test[\"preds\"])))"
   ]
  },
  {
   "cell_type": "markdown",
   "metadata": {},
   "source": [
    "# Stop here"
   ]
  },
  {
   "cell_type": "code",
   "execution_count": 21,
   "metadata": {},
   "outputs": [],
   "source": [
    "df_train.to_pickle(\"Trainset.pkl\")\n",
    "df_test.to_pickle(\"Testset.pkl\")"
   ]
  },
  {
   "cell_type": "code",
   "execution_count": 22,
   "metadata": {},
   "outputs": [],
   "source": [
    "for i in dic:\n",
    "    if i != \"GO:0003674\":\n",
    "        dfpos = pd.read_pickle(\"Trainset.pkl\")\n",
    "        dfneg = pd.read_pickle(\"Trainset.pkl\")\n",
    "\n",
    "        dfpos[\"pos\"] = dfpos[\"preds\"].apply(lambda x: x[dic[i]]==1)\n",
    "        dfpos = dfpos[dfpos[\"pos\"]]\n",
    "\n",
    "        dfneg[\"neg\"] = np.zeros(len(dfneg))\n",
    "        for j in go[i]['is_a']:\n",
    "            if j!= \"GO:0003674\":\n",
    "                dfneg = negPred(dfneg, dic[j], dic[i]) \n",
    "            else:\n",
    "                dfneg = negPred(dfneg, 100, dic[i])\n",
    "\n",
    "        dfneg = dfneg[dfneg[\"neg\"]]\n",
    "\n",
    "        dfpos[\"result\"] = 1\n",
    "        dfneg[\"result\"] = 0\n",
    "\n",
    "        dfin = pd.concat([dfpos[[\"SeqVec\",\"result\"]], dfneg[[\"SeqVec\",\"result\"]]])\n",
    "        \n",
    "        ratio = len(dfin[dfin[\"result\"]==1])/len(dfin)\n",
    "        df_train = shuffle(pd.read_pickle(\"Trainset.pkl\"), random_state = 42)\n",
    "        \n",
    "        if ratio > 0.6:\n",
    "            df_train_neg = df_train[df_train[\"preds\"].apply(lambda x: x[dic[i]]==0)]\n",
    "            start = 0\n",
    "            while ratio > 0.6:\n",
    "                while True:\n",
    "                    if not df_train_neg.index[start] in dfin.index:\n",
    "                        dfin = dfin.append(df_train_neg.iloc[start])\n",
    "                        start += 1\n",
    "                        break   \n",
    "                    start += 1\n",
    "                ratio = len(dfin[dfin[\"result\"]==1])/len(dfin)\n",
    "            dfin = dfin.fillna(0)\n",
    "        \n",
    "\n",
    "        dfin.to_pickle(\"DatasetsBalanced/Dataset_\"+i.strip()+\".pkl\")"
   ]
  },
  {
   "cell_type": "markdown",
   "metadata": {},
   "source": [
    "# Data Imbalance after solving it"
   ]
  },
  {
   "cell_type": "code",
   "execution_count": 17,
   "metadata": {},
   "outputs": [],
   "source": [
    "dic_bal = {}\n",
    "for i in dic:\n",
    "    pos = dic[i]\n",
    "    df = pd.read_pickle(\"DatasetsBalanced/Dataset_\"+i.strip()+\".pkl\")\n",
    "    pred_sum = np.sum(df[\"result\"]==1)\n",
    "    dic_bal[i] = pred_sum/len(df)"
   ]
  },
  {
   "cell_type": "code",
   "execution_count": 83,
   "metadata": {},
   "outputs": [],
   "source": [
    "sorts = sorted(dic_bal.items(), key=lambda x: x[1])"
   ]
  },
  {
   "cell_type": "code",
   "execution_count": 87,
   "metadata": {},
   "outputs": [],
   "source": [
    "with open(\"go_order\",\"wb\") as f:\n",
    "    pickle.dump(sorts, f)"
   ]
  },
  {
   "cell_type": "code",
   "execution_count": 15,
   "metadata": {},
   "outputs": [],
   "source": [
    "with open(\"go_imbal_order\",\"wb\") as f:\n",
    "    pickle.dump(sorted(dic_imbal.items(), key=lambda x:x[1]), f)"
   ]
  },
  {
   "cell_type": "code",
   "execution_count": 81,
   "metadata": {},
   "outputs": [
    {
     "data": {
      "image/png": "[encoded data removed]",
      "text/plain": [
       "<Figure size 1080x504 with 1 Axes>"
      ]
     },
     "metadata": {
      "needs_background": "light"
     },
     "output_type": "display_data"
    }
   ],
   "source": [
    "a=plt.figure(figsize=(15, 7))\n",
    "sorts = sorted(dic_bal.items(), key=lambda x: x[1])\n",
    "terms = [i[0] for i in sorts]\n",
    "probs = [i[1] for i in sorts]\n",
    "plt.bar(terms, probs)\n",
    "plt.rcParams.update({'font.size': 15})\n",
    "plt.xticks(rotation=90)\n",
    "#plt.yscale('log')\n",
    "plt.title('% of appearance of every class in the data set')\n",
    "#plt.xlabel('GO term class')\n",
    "plt.ylabel('% of appearance')\n",
    "plt.subplots_adjust(bottom=0.3, top=0.90)\n",
    "plt.show()\n",
    "#a.savefig(\"Figures/DatasetImbalanceAfter.png\")"
   ]
  },
  {
   "cell_type": "markdown",
   "metadata": {},
   "source": [
    "# Comparing Data set imbalance"
   ]
  },
  {
   "cell_type": "code",
   "execution_count": 14,
   "metadata": {},
   "outputs": [],
   "source": [
    "sorts = sorted(dic_imbal.items(), key=lambda x: x[1])"
   ]
  },
  {
   "cell_type": "code",
   "execution_count": 28,
   "metadata": {},
   "outputs": [],
   "source": [
    "imbalanced = [i[1]/21493 for i in sorts]"
   ]
  },
  {
   "cell_type": "code",
   "execution_count": 29,
   "metadata": {},
   "outputs": [],
   "source": [
    "balanced = []\n",
    "for i in sorts:\n",
    "    balanced.append(dic_bal[i[0]])"
   ]
  },
  {
   "cell_type": "code",
   "execution_count": 30,
   "metadata": {},
   "outputs": [
    {
     "data": {
      "image/png": "[encoded data removed]",
      "text/plain": [
       "<Figure size 1440x540 with 1 Axes>"
      ]
     },
     "metadata": {
      "needs_background": "light"
     },
     "output_type": "display_data"
    }
   ],
   "source": [
    "# set width of bar\n",
    "barWidth = 0.4\n",
    " \n",
    "# set height of bar\n",
    "bars1 = imbalanced\n",
    "bars2 = balanced\n",
    " \n",
    "# Set position of bar on X axis\n",
    "r1 = np.arange(len(bars1))\n",
    "r2 = [x + barWidth for x in r1]\n",
    " \n",
    "# Make the plot\n",
    "plt.rcParams.update({'font.size': 15})\n",
    "\n",
    "a=plt.figure(figsize=(20, 7.5))\n",
    "plt.bar(r1, bars1, color='green', width=barWidth, edgecolor='white', label='Imbalanced')\n",
    "plt.bar(r2, bars2, color='orange', width=barWidth, edgecolor='white', label='Balanced')\n",
    "#plt.yscale('log')\n",
    "# Add xticks on the middle of the group bars\n",
    "plt.ylabel('positive data samples / dataset size')\n",
    "plt.xticks([r + barWidth for r in range(len(bars1))], [i[0] for i in sorts])\n",
    "plt.xticks(rotation=90)\n",
    "plt.subplots_adjust(bottom=0.3, top=0.90)\n",
    "\n",
    " \n",
    "# Create legend & Show graphic\n",
    "plt.legend()\n",
    "plt.show()\n",
    "a.savefig(\"Figures/datasetsimbalances.png\")"
   ]
  },
  {
   "cell_type": "markdown",
   "metadata": {},
   "source": [
    "# Solve Data Imbalance"
   ]
  },
  {
   "cell_type": "code",
   "execution_count": 19,
   "metadata": {},
   "outputs": [],
   "source": [
    "for name in dic:\n",
    "    if name != \"GO:0003674\":\n",
    "        pos = dic[name]\n",
    "        df = shuffle(pd.read_pickle(\"DatasetsImbalanced/Dataset_\"+name+\".pkl\"), random_state=21)\n",
    "        df_train = shuffle(pd.read_pickle(\"Trainset.pkl\"), random_state = 42)\n",
    "        ratio = len(df[df[\"result\"]==1])/len(df)\n",
    "        if ratio < 0.4: #debugg here!\n",
    "            df = df.sort_values(\"result\")\n",
    "            while ratio < 0.4:\n",
    "                start = 0\n",
    "                while True:\n",
    "                    if df.iloc[start][\"result\"] == 0:\n",
    "                        df = df.drop(df.index[start])\n",
    "                        ratio = len(df[df[\"result\"]==1])/len(df)\n",
    "                        break\n",
    "                    else:\n",
    "                        start += 1\n",
    "            df.to_pickle(\"DatasetsBalanced/Dataset_\"+name+\".pkl\")\n",
    "        elif ratio > 0.6:\n",
    "            df_train_neg = df_train[df_train[\"preds\"].apply(lambda x: x[dic[name]]==0)]\n",
    "            start = 0\n",
    "            while ratio > 0.6:\n",
    "                while True:\n",
    "                    if not df_train_neg.index[start] in df.index:\n",
    "                        df = df.append(df_train_neg.iloc[start])\n",
    "                        start += 1\n",
    "                        break   \n",
    "                    start += 1\n",
    "                ratio = len(df[df[\"result\"]==1])/len(df)\n",
    "            df = df.drop([\"Go_terms\", \"Seq\", \"UniProt_ID\", \"preds\"], axis = 1)\n",
    "            df = df.fillna(1)\n",
    "            df.to_pickle(\"DatasetsBalanced/Dataset_\"+name+\".pkl\")\n",
    "        else:\n",
    "            df.to_pickle(\"DatasetsBalanced/Dataset_\"+name+\".pkl\")"
   ]
  },
  {
   "cell_type": "code",
   "execution_count": null,
   "metadata": {},
   "outputs": [],
   "source": []
  }
 ],
 "metadata": {
  "kernelspec": {
   "display_name": "Python 3",
   "language": "python",
   "name": "python3"
  },
  "language_info": {
   "codemirror_mode": {
    "name": "ipython",
    "version": 3
   },
   "file_extension": ".py",
   "mimetype": "text/x-python",
   "name": "python",
   "nbconvert_exporter": "python",
   "pygments_lexer": "ipython3",
   "version": "3.6.7"
  }
 },
 "nbformat": 4,
 "nbformat_minor": 4
}
