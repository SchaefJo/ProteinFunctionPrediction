{
 "cells": [
  {
   "cell_type": "markdown",
   "metadata": {},
   "source": [
    "### Parse .dat file from uniprot to extract all proteins and their sequences according to the following criteria: \n",
    " - at least one molecular function annotation with an experimental evidence code\n",
    " - no ambigious amino acids\n",
    " - less than 1002 amino acids per protein"
   ]
  },
  {
   "cell_type": "code",
   "execution_count": 1,
   "metadata": {},
   "outputs": [],
   "source": [
    "import pandas as pd\n",
    "\n",
    "def evidence(code):\n",
    "    if (code == \"EXP\") or (code == \"IDA\") or (code == \"IPI\") or (code == \"IMP\") or (code == \"IGI\") or (code == \"IEP\") or (code == \"TAS\") or (code == \"IC\"):\n",
    "        return True\n",
    "    else:\n",
    "        return False"
   ]
  },
  {
   "cell_type": "code",
   "execution_count": 3,
   "metadata": {},
   "outputs": [],
   "source": [
    "with open(\"uniprot_sprot.dat\") as file:\n",
    "    df = pd.DataFrame(columns=['UniProt_ID', 'Go_terms', 'Seq'])\n",
    "    \n",
    "    binding_c = 0\n",
    "    \n",
    "    for line in file:\n",
    "        if line[:2] == \"AC\":\n",
    "            name = line[5:].split(\";\")[0]\n",
    "            seq = \"\"\n",
    "            terms = []\n",
    "        elif (line[:2] == \"DR\") and (line[:8]==\"DR   GO;\"):\n",
    "            dbR = line.split(\";\")\n",
    "            if (dbR[2][1]==\"F\") and evidence(dbR[3][1:4]):\n",
    "                if dbR[1].split()[0] != \"GO:0005515\":\n",
    "                    terms.append(dbR[1].split()[0])\n",
    "                else:\n",
    "                    binding_c += 1\n",
    "        elif (line[:2] == \"  \") and (len(terms)>=1):\n",
    "            seq += \"\".join(line.split(\" \")).strip()\n",
    "        elif line[:2] == \"//\":\n",
    "            if len(terms)>=1 and len(seq) <= 1002:\n",
    "                df = df.append({'UniProt_ID':name.strip(),'Go_terms':\",\".join(terms),'Seq':seq}, ignore_index=True)"
   ]
  },
  {
   "cell_type": "code",
   "execution_count": 5,
   "metadata": {},
   "outputs": [],
   "source": [
    "for i, seq in enumerate(df[\"Seq\"]):\n",
    "    if (\"B\" in seq) or (\"O\" in seq) or (\"J\" in seq) or (\"U\" in seq) or (\"X\" in seq) or (\"Z\" in seq):\n",
    "        df = df.drop(i)"
   ]
  },
  {
   "cell_type": "code",
   "execution_count": 6,
   "metadata": {},
   "outputs": [],
   "source": [
    "df = df.reset_index()"
   ]
  },
  {
   "cell_type": "code",
   "execution_count": 7,
   "metadata": {},
   "outputs": [],
   "source": [
    "df.to_pickle(\"Dataset.pkl\")"
   ]
  }
 ],
 "metadata": {
  "kernelspec": {
   "display_name": "Python 3",
   "language": "python",
   "name": "python3"
  },
  "language_info": {
   "codemirror_mode": {
    "name": "ipython",
    "version": 3
   },
   "file_extension": ".py",
   "mimetype": "text/x-python",
   "name": "python",
   "nbconvert_exporter": "python",
   "pygments_lexer": "ipython3",
   "version": "3.6.7"
  }
 },
 "nbformat": 4,
 "nbformat_minor": 4
}
